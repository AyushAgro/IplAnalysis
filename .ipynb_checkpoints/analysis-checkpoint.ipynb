{
 "cells": [
  {
   "cell_type": "code",
   "execution_count": 2,
   "id": "transparent-grove",
   "metadata": {
    "ExecuteTime": {
     "end_time": "2021-09-25T12:08:04.602583Z",
     "start_time": "2021-09-25T12:08:04.599918Z"
    }
   },
   "outputs": [],
   "source": [
    "import pandas_profiling as pp\n",
    "import numpy as np\n",
    "import pandas as pd\n",
    "import seaborn as sns"
   ]
  },
  {
   "cell_type": "code",
   "execution_count": 4,
   "id": "constant-alabama",
   "metadata": {
    "ExecuteTime": {
     "end_time": "2021-09-25T12:09:26.270283Z",
     "start_time": "2021-09-25T12:09:26.265488Z"
    }
   },
   "outputs": [
    {
     "name": "stdout",
     "output_type": "stream",
     "text": [
      "/home/pheonix/IplAnalysis/ipl_csv2\n"
     ]
    }
   ],
   "source": [
    "cd ipl_csv2"
   ]
  },
  {
   "cell_type": "code",
   "execution_count": null,
   "id": "imported-blade",
   "metadata": {},
   "outputs": [],
   "source": []
  },
  {
   "cell_type": "code",
   "execution_count": null,
   "id": "looking-dimension",
   "metadata": {},
   "outputs": [],
   "source": [
    "df = pd.read_csv('ipl_csv/')"
   ]
  }
 ],
 "metadata": {
  "kernelspec": {
   "display_name": "Python 3",
   "language": "python",
   "name": "python3"
  },
  "language_info": {
   "codemirror_mode": {
    "name": "ipython",
    "version": 3
   },
   "file_extension": ".py",
   "mimetype": "text/x-python",
   "name": "python",
   "nbconvert_exporter": "python",
   "pygments_lexer": "ipython3",
   "version": "3.8.8"
  },
  "toc": {
   "base_numbering": 1,
   "nav_menu": {},
   "number_sections": true,
   "sideBar": true,
   "skip_h1_title": false,
   "title_cell": "Table of Contents",
   "title_sidebar": "Contents",
   "toc_cell": false,
   "toc_position": {},
   "toc_section_display": true,
   "toc_window_display": false
  },
  "varInspector": {
   "cols": {
    "lenName": 16,
    "lenType": 16,
    "lenVar": 40
   },
   "kernels_config": {
    "python": {
     "delete_cmd_postfix": "",
     "delete_cmd_prefix": "del ",
     "library": "var_list.py",
     "varRefreshCmd": "print(var_dic_list())"
    },
    "r": {
     "delete_cmd_postfix": ") ",
     "delete_cmd_prefix": "rm(",
     "library": "var_list.r",
     "varRefreshCmd": "cat(var_dic_list()) "
    }
   },
   "types_to_exclude": [
    "module",
    "function",
    "builtin_function_or_method",
    "instance",
    "_Feature"
   ],
   "window_display": false
  }
 },
 "nbformat": 4,
 "nbformat_minor": 5
}
