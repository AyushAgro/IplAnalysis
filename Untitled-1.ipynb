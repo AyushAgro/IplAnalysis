{
 "cells": [
  {
   "cell_type": "code",
   "execution_count": 54,
   "source": [
    "import pandas as pd\n",
    "from collections import defaultdict"
   ],
   "outputs": [],
   "metadata": {}
  },
  {
   "cell_type": "code",
   "execution_count": 55,
   "source": [
    "class Match:\n",
    "    def __init__(self, match_id, team1, team2, venue, start_date, season):\n",
    "        self.match_id = match_id\n",
    "        self.team1 = team1\n",
    "        self.team2 = team2\n",
    "        self.venue = venue\n",
    "        self.start_date = start_date\n",
    "        self.season = season\n",
    "\n",
    "\n",
    "class Team:\n",
    "    def __init__(self, name):\n",
    "        self.name = name\n",
    "        self.players = defaultdict(Player)\n",
    "        self.extra = {\"b\": 0, \"lb\": 0, \"w\": 0, \"nb\": 0, \"p\": 0}\n",
    "        self.extra_run = 0\n",
    "        self.out = 0\n",
    "\n",
    "    def find_player(self, name):\n",
    "        if name not in self.players:\n",
    "            self.players[name] = Player(name)\n",
    "        return self.players[name]\n",
    "\n",
    "    def add_extra(self, type, run):\n",
    "        self.extra[type] = self.extra.get(type, 0) + run\n",
    "        self.extra_run += run\n",
    "\n",
    "    def get_total(self):\n",
    "        runs = 0\n",
    "        for key, value in self.players.items():\n",
    "            runs += value.run_scored\n",
    "        return runs + self.extra_run\n",
    "\n",
    "    def reset(self):\n",
    "        self.players = defaultdict(Player)\n",
    "        self.extra = {\"b\": 0, \"lb\": 0, \"w\": 0, \"nb\": 0, \"p\": 0}\n",
    "        self.extra_run = 0\n",
    "        self.out = 0\n",
    "\n",
    "\n",
    "class Player:\n",
    "    def __init__(self, name):\n",
    "        self.name = name\n",
    "        self.run_scored = 0\n",
    "        self.ball_played = 0\n",
    "        self.fours = 0\n",
    "        self.six = 0\n",
    "        self.out = \"\"\n",
    "        self.balled = 0\n",
    "\n",
    "    def add_run(self, run):\n",
    "        self.run_scored += run\n",
    "        if run == 4:\n",
    "            self.fours += 1\n",
    "        if run == 6:\n",
    "            self.six += 1\n",
    "\n",
    "    def playing(self):\n",
    "        self.out = \"Not Out\"\n",
    "\n",
    "    def isOut(self, name):\n",
    "        self.out = str(name)\n"
   ],
   "outputs": [],
   "metadata": {}
  },
  {
   "cell_type": "code",
   "execution_count": 85,
   "source": [],
   "outputs": [
    {
     "output_type": "stream",
     "name": "stdout",
     "text": [
      "defaultdict(<class '__main__.Team'>, {'Kolkata Knight Riders': <__main__.Team object at 0x7fe719182610>, 'Royal Challengers Bangalore': <__main__.Team object at 0x7fe719182dc0>})\n"
     ]
    }
   ],
   "metadata": {}
  },
  {
   "cell_type": "code",
   "execution_count": 83,
   "source": [],
   "outputs": [],
   "metadata": {}
  },
  {
   "cell_type": "code",
   "execution_count": null,
   "source": [],
   "outputs": [],
   "metadata": {}
  },
  {
   "cell_type": "code",
   "execution_count": null,
   "source": [],
   "outputs": [],
   "metadata": {}
  }
 ],
 "metadata": {
  "orig_nbformat": 4,
  "language_info": {
   "name": "python",
   "version": "3.8.8",
   "mimetype": "text/x-python",
   "codemirror_mode": {
    "name": "ipython",
    "version": 3
   },
   "pygments_lexer": "ipython3",
   "nbconvert_exporter": "python",
   "file_extension": ".py"
  },
  "kernelspec": {
   "name": "python3",
   "display_name": "Python 3.8.8 64-bit ('base': conda)"
  },
  "interpreter": {
   "hash": "3b6e9b7208a04b517942be9da81a7c70421d329fd25cfbff5d875369ac6b0bf8"
  }
 },
 "nbformat": 4,
 "nbformat_minor": 2
}